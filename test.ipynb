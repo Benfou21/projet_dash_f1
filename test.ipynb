{
 "cells": [
  {
   "cell_type": "code",
   "execution_count": 44,
   "metadata": {},
   "outputs": [],
   "source": [
    "from jupyter_dash import JupyterDash"
   ]
  },
  {
   "cell_type": "code",
   "execution_count": 58,
   "metadata": {},
   "outputs": [],
   "source": [
    "import pandas as pd\n",
    "import plotly.graph_objects as go\n",
    "import plotly.express as px\n",
    "import numpy as np"
   ]
  },
  {
   "cell_type": "code",
   "execution_count": 60,
   "metadata": {},
   "outputs": [
    {
     "data": {
      "text/html": [
       "<div>\n",
       "<style scoped>\n",
       "    .dataframe tbody tr th:only-of-type {\n",
       "        vertical-align: middle;\n",
       "    }\n",
       "\n",
       "    .dataframe tbody tr th {\n",
       "        vertical-align: top;\n",
       "    }\n",
       "\n",
       "    .dataframe thead th {\n",
       "        text-align: right;\n",
       "    }\n",
       "</style>\n",
       "<table border=\"1\" class=\"dataframe\">\n",
       "  <thead>\n",
       "    <tr style=\"text-align: right;\">\n",
       "      <th></th>\n",
       "      <th>Date</th>\n",
       "      <th>Grand Prix</th>\n",
       "      <th>GP</th>\n",
       "      <th>Circuit</th>\n",
       "      <th>Pays</th>\n",
       "      <th>Vainqueur</th>\n",
       "      <th>Écurie</th>\n",
       "      <th>Pole Position</th>\n",
       "      <th>Meilleur tour</th>\n",
       "      <th>Position Hamilton</th>\n",
       "      <th>Position Verstappen</th>\n",
       "      <th>Points Hamilton</th>\n",
       "      <th>Points Verstappen</th>\n",
       "      <th>Cumul Hamilton</th>\n",
       "      <th>Cumul Verstappen</th>\n",
       "      <th>Classement Hamilton</th>\n",
       "      <th>Classement Verstappen</th>\n",
       "    </tr>\n",
       "  </thead>\n",
       "  <tbody>\n",
       "    <tr>\n",
       "      <th>0</th>\n",
       "      <td>28/03/2021</td>\n",
       "      <td>Grand Prix de Bahreïn</td>\n",
       "      <td>Bahreïn</td>\n",
       "      <td>Sakhir</td>\n",
       "      <td>Bahreïn</td>\n",
       "      <td>Lewis Hamilton</td>\n",
       "      <td>Mercedes</td>\n",
       "      <td>Max Verstappen</td>\n",
       "      <td>Valtteri Bottas</td>\n",
       "      <td>1</td>\n",
       "      <td>2</td>\n",
       "      <td>25</td>\n",
       "      <td>18</td>\n",
       "      <td>25.0</td>\n",
       "      <td>18.0</td>\n",
       "      <td>1</td>\n",
       "      <td>2</td>\n",
       "    </tr>\n",
       "    <tr>\n",
       "      <th>1</th>\n",
       "      <td>18/04/2021</td>\n",
       "      <td>Grand Prix d'Émilie-Romagne</td>\n",
       "      <td>Émilie-Romagne</td>\n",
       "      <td>Imola</td>\n",
       "      <td>Italie</td>\n",
       "      <td>Max Verstappen</td>\n",
       "      <td>Red Bull-Honda</td>\n",
       "      <td>Lewis Hamilton</td>\n",
       "      <td>Lewis Hamilton</td>\n",
       "      <td>2</td>\n",
       "      <td>1</td>\n",
       "      <td>19</td>\n",
       "      <td>25</td>\n",
       "      <td>44.0</td>\n",
       "      <td>43.0</td>\n",
       "      <td>1</td>\n",
       "      <td>2</td>\n",
       "    </tr>\n",
       "    <tr>\n",
       "      <th>2</th>\n",
       "      <td>02/05/2021</td>\n",
       "      <td>Grand Prix du Portugal</td>\n",
       "      <td>Portugal</td>\n",
       "      <td>Portimão</td>\n",
       "      <td>Portugal</td>\n",
       "      <td>Lewis Hamilton</td>\n",
       "      <td>Mercedes</td>\n",
       "      <td>Valtteri Bottas</td>\n",
       "      <td>Valtteri Bottas</td>\n",
       "      <td>1</td>\n",
       "      <td>2</td>\n",
       "      <td>25</td>\n",
       "      <td>18</td>\n",
       "      <td>69.0</td>\n",
       "      <td>61.0</td>\n",
       "      <td>1</td>\n",
       "      <td>2</td>\n",
       "    </tr>\n",
       "    <tr>\n",
       "      <th>3</th>\n",
       "      <td>09/05/2021</td>\n",
       "      <td>Grand Prix d'Espagne</td>\n",
       "      <td>Espagne</td>\n",
       "      <td>Barcelone</td>\n",
       "      <td>Espagne</td>\n",
       "      <td>Lewis Hamilton</td>\n",
       "      <td>Mercedes</td>\n",
       "      <td>Lewis Hamilton</td>\n",
       "      <td>Max Verstappen</td>\n",
       "      <td>1</td>\n",
       "      <td>2</td>\n",
       "      <td>25</td>\n",
       "      <td>19</td>\n",
       "      <td>94.0</td>\n",
       "      <td>80.0</td>\n",
       "      <td>1</td>\n",
       "      <td>2</td>\n",
       "    </tr>\n",
       "    <tr>\n",
       "      <th>4</th>\n",
       "      <td>23/05/2021</td>\n",
       "      <td>Grand Prix de Monaco</td>\n",
       "      <td>Monaco</td>\n",
       "      <td>Monaco</td>\n",
       "      <td>Monaco</td>\n",
       "      <td>Max Verstappen</td>\n",
       "      <td>Red Bull-Honda</td>\n",
       "      <td>Charles Leclerc</td>\n",
       "      <td>Lewis Hamilton</td>\n",
       "      <td>7</td>\n",
       "      <td>1</td>\n",
       "      <td>7</td>\n",
       "      <td>25</td>\n",
       "      <td>101.0</td>\n",
       "      <td>105.0</td>\n",
       "      <td>2</td>\n",
       "      <td>1</td>\n",
       "    </tr>\n",
       "  </tbody>\n",
       "</table>\n",
       "</div>"
      ],
      "text/plain": [
       "         Date                   Grand Prix              GP    Circuit  \\\n",
       "0  28/03/2021        Grand Prix de Bahreïn         Bahreïn     Sakhir   \n",
       "1  18/04/2021  Grand Prix d'Émilie-Romagne  Émilie-Romagne      Imola   \n",
       "2  02/05/2021       Grand Prix du Portugal        Portugal   Portimão   \n",
       "3  09/05/2021         Grand Prix d'Espagne         Espagne  Barcelone   \n",
       "4  23/05/2021         Grand Prix de Monaco          Monaco     Monaco   \n",
       "\n",
       "       Pays       Vainqueur          Écurie    Pole Position    Meilleur tour  \\\n",
       "0   Bahreïn  Lewis Hamilton        Mercedes   Max Verstappen  Valtteri Bottas   \n",
       "1    Italie  Max Verstappen  Red Bull-Honda   Lewis Hamilton   Lewis Hamilton   \n",
       "2  Portugal  Lewis Hamilton        Mercedes  Valtteri Bottas  Valtteri Bottas   \n",
       "3   Espagne  Lewis Hamilton        Mercedes   Lewis Hamilton   Max Verstappen   \n",
       "4    Monaco  Max Verstappen  Red Bull-Honda  Charles Leclerc   Lewis Hamilton   \n",
       "\n",
       "  Position Hamilton Position Verstappen  Points Hamilton  Points Verstappen  \\\n",
       "0                 1                   2               25                 18   \n",
       "1                 2                   1               19                 25   \n",
       "2                 1                   2               25                 18   \n",
       "3                 1                   2               25                 19   \n",
       "4                 7                   1                7                 25   \n",
       "\n",
       "   Cumul Hamilton  Cumul Verstappen  Classement Hamilton  \\\n",
       "0            25.0              18.0                    1   \n",
       "1            44.0              43.0                    1   \n",
       "2            69.0              61.0                    1   \n",
       "3            94.0              80.0                    1   \n",
       "4           101.0             105.0                    2   \n",
       "\n",
       "   Classement Verstappen  \n",
       "0                      2  \n",
       "1                      2  \n",
       "2                      2  \n",
       "3                      2  \n",
       "4                      1  "
      ]
     },
     "execution_count": 60,
     "metadata": {},
     "output_type": "execute_result"
    }
   ],
   "source": [
    "df = pd.read_csv('src/assets/data/classement_2021.csv', sep=';')\n",
    "float_col = ['Cumul Hamilton', 'Cumul Verstappen']\n",
    "int_col = ['Points Hamilton', 'Points Verstappen']\n",
    "df[float_col] = df[float_col].astype(float)\n",
    "df[int_col] = df[int_col].astype(int)\n",
    "df.head()"
   ]
  },
  {
   "cell_type": "code",
   "execution_count": 47,
   "metadata": {},
   "outputs": [
    {
     "data": {
      "text/plain": [
       "Index(['Date', 'Grand Prix', 'GP', 'Circuit', 'Pays', 'Vainqueur', 'Écurie',\n",
       "       'Pole Position', 'Meilleur tour', 'Position Hamilton',\n",
       "       'Position Verstappen', 'Points Hamilton', 'Points Verstappen',\n",
       "       'Cumul Hamilton', 'Cumul Verstappen'],\n",
       "      dtype='object')"
      ]
     },
     "execution_count": 47,
     "metadata": {},
     "output_type": "execute_result"
    }
   ],
   "source": [
    "df.columns"
   ]
  },
  {
   "cell_type": "code",
   "execution_count": 48,
   "metadata": {},
   "outputs": [
    {
     "data": {
      "application/vnd.plotly.v1+json": {
       "config": {
        "plotlyServerURL": "https://plot.ly"
       },
       "data": [
        {
         "hovertemplate": "Pilote=Cumul Hamilton<br>Grand Prix=%{x}<br>Points=%{y}<extra></extra>",
         "legendgroup": "Cumul Hamilton",
         "marker": {
          "color": "#636efa",
          "symbol": "circle"
         },
         "mode": "markers",
         "name": "Cumul Hamilton",
         "orientation": "v",
         "showlegend": true,
         "type": "scatter",
         "x": [
          "Bahreïn",
          "Émilie-Romagne",
          "Portugal",
          "Espagne",
          "Monaco",
          "Azerbaïdjan",
          "France",
          "Styrie",
          "Autriche",
          "Grande-Bretagne",
          "Hongrie",
          "Belgique",
          "Pays-Bas",
          "Italie",
          "Russie",
          "Turquie",
          "États-Unis",
          "Mexico",
          "São Paulo",
          "Qatar",
          "Arabie saoudite",
          "Abou Dabi"
         ],
         "xaxis": "x",
         "y": [
          25,
          44,
          69,
          94,
          101,
          101,
          119,
          138,
          150,
          177,
          195,
          202.5,
          221.5,
          221.5,
          246.5,
          256.5,
          275.5,
          293.5,
          318.5,
          343.5,
          369.5,
          387.5
         ],
         "yaxis": "y"
        },
        {
         "hovertemplate": "Pilote=Cumul Verstappen<br>Grand Prix=%{x}<br>Points=%{y}<extra></extra>",
         "legendgroup": "Cumul Verstappen",
         "marker": {
          "color": "#EF553B",
          "symbol": "circle"
         },
         "mode": "markers",
         "name": "Cumul Verstappen",
         "orientation": "v",
         "showlegend": true,
         "type": "scatter",
         "x": [
          "Bahreïn",
          "Émilie-Romagne",
          "Portugal",
          "Espagne",
          "Monaco",
          "Azerbaïdjan",
          "France",
          "Styrie",
          "Autriche",
          "Grande-Bretagne",
          "Hongrie",
          "Belgique",
          "Pays-Bas",
          "Italie",
          "Russie",
          "Turquie",
          "États-Unis",
          "Mexico",
          "São Paulo",
          "Qatar",
          "Arabie saoudite",
          "Abou Dabi"
         ],
         "xaxis": "x",
         "y": [
          18,
          43,
          61,
          80,
          105,
          105,
          131,
          156,
          182,
          185,
          187,
          199.5,
          224.5,
          226.5,
          244.5,
          262.5,
          287.5,
          312.5,
          332.5,
          351.5,
          369.5,
          395.5
         ],
         "yaxis": "y"
        }
       ],
       "layout": {
        "legend": {
         "title": {
          "text": "Pilote"
         },
         "tracegroupgap": 0
        },
        "template": {
         "data": {
          "bar": [
           {
            "error_x": {
             "color": "#2a3f5f"
            },
            "error_y": {
             "color": "#2a3f5f"
            },
            "marker": {
             "line": {
              "color": "#E5ECF6",
              "width": 0.5
             },
             "pattern": {
              "fillmode": "overlay",
              "size": 10,
              "solidity": 0.2
             }
            },
            "type": "bar"
           }
          ],
          "barpolar": [
           {
            "marker": {
             "line": {
              "color": "#E5ECF6",
              "width": 0.5
             },
             "pattern": {
              "fillmode": "overlay",
              "size": 10,
              "solidity": 0.2
             }
            },
            "type": "barpolar"
           }
          ],
          "carpet": [
           {
            "aaxis": {
             "endlinecolor": "#2a3f5f",
             "gridcolor": "white",
             "linecolor": "white",
             "minorgridcolor": "white",
             "startlinecolor": "#2a3f5f"
            },
            "baxis": {
             "endlinecolor": "#2a3f5f",
             "gridcolor": "white",
             "linecolor": "white",
             "minorgridcolor": "white",
             "startlinecolor": "#2a3f5f"
            },
            "type": "carpet"
           }
          ],
          "choropleth": [
           {
            "colorbar": {
             "outlinewidth": 0,
             "ticks": ""
            },
            "type": "choropleth"
           }
          ],
          "contour": [
           {
            "colorbar": {
             "outlinewidth": 0,
             "ticks": ""
            },
            "colorscale": [
             [
              0,
              "#0d0887"
             ],
             [
              0.1111111111111111,
              "#46039f"
             ],
             [
              0.2222222222222222,
              "#7201a8"
             ],
             [
              0.3333333333333333,
              "#9c179e"
             ],
             [
              0.4444444444444444,
              "#bd3786"
             ],
             [
              0.5555555555555556,
              "#d8576b"
             ],
             [
              0.6666666666666666,
              "#ed7953"
             ],
             [
              0.7777777777777778,
              "#fb9f3a"
             ],
             [
              0.8888888888888888,
              "#fdca26"
             ],
             [
              1,
              "#f0f921"
             ]
            ],
            "type": "contour"
           }
          ],
          "contourcarpet": [
           {
            "colorbar": {
             "outlinewidth": 0,
             "ticks": ""
            },
            "type": "contourcarpet"
           }
          ],
          "heatmap": [
           {
            "colorbar": {
             "outlinewidth": 0,
             "ticks": ""
            },
            "colorscale": [
             [
              0,
              "#0d0887"
             ],
             [
              0.1111111111111111,
              "#46039f"
             ],
             [
              0.2222222222222222,
              "#7201a8"
             ],
             [
              0.3333333333333333,
              "#9c179e"
             ],
             [
              0.4444444444444444,
              "#bd3786"
             ],
             [
              0.5555555555555556,
              "#d8576b"
             ],
             [
              0.6666666666666666,
              "#ed7953"
             ],
             [
              0.7777777777777778,
              "#fb9f3a"
             ],
             [
              0.8888888888888888,
              "#fdca26"
             ],
             [
              1,
              "#f0f921"
             ]
            ],
            "type": "heatmap"
           }
          ],
          "heatmapgl": [
           {
            "colorbar": {
             "outlinewidth": 0,
             "ticks": ""
            },
            "colorscale": [
             [
              0,
              "#0d0887"
             ],
             [
              0.1111111111111111,
              "#46039f"
             ],
             [
              0.2222222222222222,
              "#7201a8"
             ],
             [
              0.3333333333333333,
              "#9c179e"
             ],
             [
              0.4444444444444444,
              "#bd3786"
             ],
             [
              0.5555555555555556,
              "#d8576b"
             ],
             [
              0.6666666666666666,
              "#ed7953"
             ],
             [
              0.7777777777777778,
              "#fb9f3a"
             ],
             [
              0.8888888888888888,
              "#fdca26"
             ],
             [
              1,
              "#f0f921"
             ]
            ],
            "type": "heatmapgl"
           }
          ],
          "histogram": [
           {
            "marker": {
             "pattern": {
              "fillmode": "overlay",
              "size": 10,
              "solidity": 0.2
             }
            },
            "type": "histogram"
           }
          ],
          "histogram2d": [
           {
            "colorbar": {
             "outlinewidth": 0,
             "ticks": ""
            },
            "colorscale": [
             [
              0,
              "#0d0887"
             ],
             [
              0.1111111111111111,
              "#46039f"
             ],
             [
              0.2222222222222222,
              "#7201a8"
             ],
             [
              0.3333333333333333,
              "#9c179e"
             ],
             [
              0.4444444444444444,
              "#bd3786"
             ],
             [
              0.5555555555555556,
              "#d8576b"
             ],
             [
              0.6666666666666666,
              "#ed7953"
             ],
             [
              0.7777777777777778,
              "#fb9f3a"
             ],
             [
              0.8888888888888888,
              "#fdca26"
             ],
             [
              1,
              "#f0f921"
             ]
            ],
            "type": "histogram2d"
           }
          ],
          "histogram2dcontour": [
           {
            "colorbar": {
             "outlinewidth": 0,
             "ticks": ""
            },
            "colorscale": [
             [
              0,
              "#0d0887"
             ],
             [
              0.1111111111111111,
              "#46039f"
             ],
             [
              0.2222222222222222,
              "#7201a8"
             ],
             [
              0.3333333333333333,
              "#9c179e"
             ],
             [
              0.4444444444444444,
              "#bd3786"
             ],
             [
              0.5555555555555556,
              "#d8576b"
             ],
             [
              0.6666666666666666,
              "#ed7953"
             ],
             [
              0.7777777777777778,
              "#fb9f3a"
             ],
             [
              0.8888888888888888,
              "#fdca26"
             ],
             [
              1,
              "#f0f921"
             ]
            ],
            "type": "histogram2dcontour"
           }
          ],
          "mesh3d": [
           {
            "colorbar": {
             "outlinewidth": 0,
             "ticks": ""
            },
            "type": "mesh3d"
           }
          ],
          "parcoords": [
           {
            "line": {
             "colorbar": {
              "outlinewidth": 0,
              "ticks": ""
             }
            },
            "type": "parcoords"
           }
          ],
          "pie": [
           {
            "automargin": true,
            "type": "pie"
           }
          ],
          "scatter": [
           {
            "fillpattern": {
             "fillmode": "overlay",
             "size": 10,
             "solidity": 0.2
            },
            "type": "scatter"
           }
          ],
          "scatter3d": [
           {
            "line": {
             "colorbar": {
              "outlinewidth": 0,
              "ticks": ""
             }
            },
            "marker": {
             "colorbar": {
              "outlinewidth": 0,
              "ticks": ""
             }
            },
            "type": "scatter3d"
           }
          ],
          "scattercarpet": [
           {
            "marker": {
             "colorbar": {
              "outlinewidth": 0,
              "ticks": ""
             }
            },
            "type": "scattercarpet"
           }
          ],
          "scattergeo": [
           {
            "marker": {
             "colorbar": {
              "outlinewidth": 0,
              "ticks": ""
             }
            },
            "type": "scattergeo"
           }
          ],
          "scattergl": [
           {
            "marker": {
             "colorbar": {
              "outlinewidth": 0,
              "ticks": ""
             }
            },
            "type": "scattergl"
           }
          ],
          "scattermapbox": [
           {
            "marker": {
             "colorbar": {
              "outlinewidth": 0,
              "ticks": ""
             }
            },
            "type": "scattermapbox"
           }
          ],
          "scatterpolar": [
           {
            "marker": {
             "colorbar": {
              "outlinewidth": 0,
              "ticks": ""
             }
            },
            "type": "scatterpolar"
           }
          ],
          "scatterpolargl": [
           {
            "marker": {
             "colorbar": {
              "outlinewidth": 0,
              "ticks": ""
             }
            },
            "type": "scatterpolargl"
           }
          ],
          "scatterternary": [
           {
            "marker": {
             "colorbar": {
              "outlinewidth": 0,
              "ticks": ""
             }
            },
            "type": "scatterternary"
           }
          ],
          "surface": [
           {
            "colorbar": {
             "outlinewidth": 0,
             "ticks": ""
            },
            "colorscale": [
             [
              0,
              "#0d0887"
             ],
             [
              0.1111111111111111,
              "#46039f"
             ],
             [
              0.2222222222222222,
              "#7201a8"
             ],
             [
              0.3333333333333333,
              "#9c179e"
             ],
             [
              0.4444444444444444,
              "#bd3786"
             ],
             [
              0.5555555555555556,
              "#d8576b"
             ],
             [
              0.6666666666666666,
              "#ed7953"
             ],
             [
              0.7777777777777778,
              "#fb9f3a"
             ],
             [
              0.8888888888888888,
              "#fdca26"
             ],
             [
              1,
              "#f0f921"
             ]
            ],
            "type": "surface"
           }
          ],
          "table": [
           {
            "cells": {
             "fill": {
              "color": "#EBF0F8"
             },
             "line": {
              "color": "white"
             }
            },
            "header": {
             "fill": {
              "color": "#C8D4E3"
             },
             "line": {
              "color": "white"
             }
            },
            "type": "table"
           }
          ]
         },
         "layout": {
          "annotationdefaults": {
           "arrowcolor": "#2a3f5f",
           "arrowhead": 0,
           "arrowwidth": 1
          },
          "autotypenumbers": "strict",
          "coloraxis": {
           "colorbar": {
            "outlinewidth": 0,
            "ticks": ""
           }
          },
          "colorscale": {
           "diverging": [
            [
             0,
             "#8e0152"
            ],
            [
             0.1,
             "#c51b7d"
            ],
            [
             0.2,
             "#de77ae"
            ],
            [
             0.3,
             "#f1b6da"
            ],
            [
             0.4,
             "#fde0ef"
            ],
            [
             0.5,
             "#f7f7f7"
            ],
            [
             0.6,
             "#e6f5d0"
            ],
            [
             0.7,
             "#b8e186"
            ],
            [
             0.8,
             "#7fbc41"
            ],
            [
             0.9,
             "#4d9221"
            ],
            [
             1,
             "#276419"
            ]
           ],
           "sequential": [
            [
             0,
             "#0d0887"
            ],
            [
             0.1111111111111111,
             "#46039f"
            ],
            [
             0.2222222222222222,
             "#7201a8"
            ],
            [
             0.3333333333333333,
             "#9c179e"
            ],
            [
             0.4444444444444444,
             "#bd3786"
            ],
            [
             0.5555555555555556,
             "#d8576b"
            ],
            [
             0.6666666666666666,
             "#ed7953"
            ],
            [
             0.7777777777777778,
             "#fb9f3a"
            ],
            [
             0.8888888888888888,
             "#fdca26"
            ],
            [
             1,
             "#f0f921"
            ]
           ],
           "sequentialminus": [
            [
             0,
             "#0d0887"
            ],
            [
             0.1111111111111111,
             "#46039f"
            ],
            [
             0.2222222222222222,
             "#7201a8"
            ],
            [
             0.3333333333333333,
             "#9c179e"
            ],
            [
             0.4444444444444444,
             "#bd3786"
            ],
            [
             0.5555555555555556,
             "#d8576b"
            ],
            [
             0.6666666666666666,
             "#ed7953"
            ],
            [
             0.7777777777777778,
             "#fb9f3a"
            ],
            [
             0.8888888888888888,
             "#fdca26"
            ],
            [
             1,
             "#f0f921"
            ]
           ]
          },
          "colorway": [
           "#636efa",
           "#EF553B",
           "#00cc96",
           "#ab63fa",
           "#FFA15A",
           "#19d3f3",
           "#FF6692",
           "#B6E880",
           "#FF97FF",
           "#FECB52"
          ],
          "font": {
           "color": "#2a3f5f"
          },
          "geo": {
           "bgcolor": "white",
           "lakecolor": "white",
           "landcolor": "#E5ECF6",
           "showlakes": true,
           "showland": true,
           "subunitcolor": "white"
          },
          "hoverlabel": {
           "align": "left"
          },
          "hovermode": "closest",
          "mapbox": {
           "style": "light"
          },
          "paper_bgcolor": "white",
          "plot_bgcolor": "#E5ECF6",
          "polar": {
           "angularaxis": {
            "gridcolor": "white",
            "linecolor": "white",
            "ticks": ""
           },
           "bgcolor": "#E5ECF6",
           "radialaxis": {
            "gridcolor": "white",
            "linecolor": "white",
            "ticks": ""
           }
          },
          "scene": {
           "xaxis": {
            "backgroundcolor": "#E5ECF6",
            "gridcolor": "white",
            "gridwidth": 2,
            "linecolor": "white",
            "showbackground": true,
            "ticks": "",
            "zerolinecolor": "white"
           },
           "yaxis": {
            "backgroundcolor": "#E5ECF6",
            "gridcolor": "white",
            "gridwidth": 2,
            "linecolor": "white",
            "showbackground": true,
            "ticks": "",
            "zerolinecolor": "white"
           },
           "zaxis": {
            "backgroundcolor": "#E5ECF6",
            "gridcolor": "white",
            "gridwidth": 2,
            "linecolor": "white",
            "showbackground": true,
            "ticks": "",
            "zerolinecolor": "white"
           }
          },
          "shapedefaults": {
           "line": {
            "color": "#2a3f5f"
           }
          },
          "ternary": {
           "aaxis": {
            "gridcolor": "white",
            "linecolor": "white",
            "ticks": ""
           },
           "baxis": {
            "gridcolor": "white",
            "linecolor": "white",
            "ticks": ""
           },
           "bgcolor": "#E5ECF6",
           "caxis": {
            "gridcolor": "white",
            "linecolor": "white",
            "ticks": ""
           }
          },
          "title": {
           "x": 0.05
          },
          "xaxis": {
           "automargin": true,
           "gridcolor": "white",
           "linecolor": "white",
           "ticks": "",
           "title": {
            "standoff": 15
           },
           "zerolinecolor": "white",
           "zerolinewidth": 2
          },
          "yaxis": {
           "automargin": true,
           "gridcolor": "white",
           "linecolor": "white",
           "ticks": "",
           "title": {
            "standoff": 15
           },
           "zerolinecolor": "white",
           "zerolinewidth": 2
          }
         }
        },
        "title": {
         "text": "Évolution des points au classement du championnat du monde de F1<br><sup>Lewis Hamilton (Mercedes) et Max Verstappen (Red Bull)</sup>"
        },
        "xaxis": {
         "anchor": "y",
         "domain": [
          0,
          1
         ],
         "title": {
          "text": "Grand Prix"
         }
        },
        "yaxis": {
         "anchor": "x",
         "domain": [
          0,
          1
         ],
         "title": {
          "text": "Points"
         }
        }
       }
      }
     },
     "metadata": {},
     "output_type": "display_data"
    }
   ],
   "source": [
    "fig = px.scatter(df,\n",
    "                y=['Cumul Hamilton','Cumul Verstappen'],\n",
    "                x='GP',\n",
    "                title='Évolution des points au classement du championnat du monde de F1<br><sup>Lewis Hamilton (Mercedes) et Max Verstappen (Red Bull)</sup>',\n",
    "                labels={'GP':'Grand Prix',\n",
    "                        'value':'Points',\n",
    "                        'variable':'Pilote'\n",
    "                        }\n",
    "                )\n",
    "\n",
    "fig.show()"
   ]
  },
  {
   "cell_type": "code",
   "execution_count": 105,
   "metadata": {},
   "outputs": [],
   "source": [
    "def get_classement_hover_template(name):\n",
    "    if name == 'Hamilton':\n",
    "        hover_template = ('<b>%{customdata[0]}<br>' +\n",
    "                      f'<b>{name}: </b>' + '%{customdata[5]} - %{customdata[7]}pts<br>' +\n",
    "                      '<b>Championnat du monde<br>' +\n",
    "                      f'<b>{name}: </b>' + '%{customdata[11]}e - %{customdata[9]}pts<br>' +\n",
    "                      '<extra></extra>'\n",
    "        )\n",
    "    elif name == 'Verstappen':\n",
    "        hover_template = ('<b>%{customdata[0]} - %{customdata[1]}<br>' +\n",
    "                      f'<b>{name}: </b>' + '%{customdata[6]} - %{customdata[8]}pts<br>' +\n",
    "                      '<b>Championnat du monde<br>' +\n",
    "                      f'<b>{name}: </b>' + '%{customdata[12]}e - %{customdata[10]}pts<br>' +\n",
    "                      '<extra></extra>'\n",
    "        )\n",
    "    else: hover_template = ''\n",
    "    return hover_template"
   ]
  },
  {
   "cell_type": "code",
   "execution_count": 106,
   "metadata": {},
   "outputs": [
    {
     "data": {
      "application/vnd.plotly.v1+json": {
       "config": {
        "plotlyServerURL": "https://plot.ly"
       },
       "data": [
        {
         "customdata": [
          [
           "Grand Prix de Bahreïn",
           "28/03/2021",
           "Sakhir",
           "Lewis Hamilton",
           "Max Verstappen",
           "1",
           "2",
           25,
           18,
           25,
           18,
           1,
           2
          ],
          [
           "Grand Prix d'Émilie-Romagne",
           "18/04/2021",
           "Imola",
           "Max Verstappen",
           "Lewis Hamilton",
           "2",
           "1",
           19,
           25,
           44,
           43,
           1,
           2
          ],
          [
           "Grand Prix du Portugal",
           "02/05/2021",
           "Portimão",
           "Lewis Hamilton",
           "Valtteri Bottas",
           "1",
           "2",
           25,
           18,
           69,
           61,
           1,
           2
          ],
          [
           "Grand Prix d'Espagne",
           "09/05/2021",
           "Barcelone",
           "Lewis Hamilton",
           "Lewis Hamilton",
           "1",
           "2",
           25,
           19,
           94,
           80,
           1,
           2
          ],
          [
           "Grand Prix de Monaco",
           "23/05/2021",
           "Monaco",
           "Max Verstappen",
           "Charles Leclerc",
           "7",
           "1",
           7,
           25,
           101,
           105,
           2,
           1
          ],
          [
           "Grand Prix d'Azerbaïdjan",
           "06/06/2021",
           "Bakou",
           "Sergio Pérez",
           "Charles Leclerc",
           "15",
           "DNF",
           0,
           0,
           101,
           105,
           2,
           1
          ],
          [
           "Grand Prix de France",
           "20/06/2021",
           "Le Castellet",
           "Max Verstappen",
           "Max Verstappen",
           "2",
           "1",
           18,
           26,
           119,
           131,
           2,
           1
          ],
          [
           "Grand Prix de Styrie",
           "27/06/2021",
           "Spielberg",
           "Max Verstappen",
           "Max Verstappen",
           "2",
           "1",
           19,
           25,
           138,
           156,
           2,
           1
          ],
          [
           "Grand Prix d'Autriche",
           "04/07/2021",
           "Spielberg",
           "Max Verstappen",
           "Max Verstappen",
           "4",
           "1",
           12,
           26,
           150,
           182,
           2,
           1
          ],
          [
           "Grand Prix de Grande-Bretagne",
           "18/07/2021",
           "Silverstone",
           "Lewis Hamilton",
           "Max Verstappen",
           "1",
           "DNF",
           27,
           3,
           177,
           185,
           2,
           1
          ],
          [
           "Grand Prix de Hongrie",
           "01/08/2021",
           "Budapest",
           "Esteban Ocon",
           "Lewis Hamilton",
           "2",
           "9",
           18,
           2,
           195,
           187,
           1,
           2
          ],
          [
           "Grand Prix de Belgique",
           "29/08/2021",
           "Spa-Francorchamps",
           "Max Verstappen",
           "Max Verstappen",
           "3",
           "1",
           7,
           12,
           202.5,
           199.5,
           1,
           2
          ],
          [
           "Grand Prix des Pays-Bas",
           "05/09/2021",
           "Zandvoort",
           "Max Verstappen",
           "Max Verstappen",
           "2",
           "1",
           19,
           25,
           221.5,
           224.5,
           2,
           1
          ],
          [
           "Grand Prix d'Italie",
           "12/09/2021",
           "Monza",
           "Daniel Ricciardo",
           "Max Verstappen",
           "DNF",
           "DNF",
           0,
           2,
           221.5,
           226.5,
           2,
           1
          ],
          [
           "Grand Prix de Russie",
           "26/09/2021",
           "Sotchi",
           "Lewis Hamilton",
           "Lando Norris",
           "1",
           "2",
           25,
           18,
           246.5,
           244.5,
           1,
           2
          ],
          [
           "Grand Prix de Turquie",
           "10/10/2021",
           "Istanbul",
           "Valtteri Bottas",
           "Valtteri Bottas",
           "5",
           "2",
           10,
           18,
           256.5,
           262.5,
           2,
           1
          ],
          [
           "Grand Prix des États-Unis",
           "24/10/2021",
           "Austin",
           "Max Verstappen",
           "Max Verstappen",
           "2",
           "1",
           19,
           25,
           275.5,
           287.5,
           2,
           1
          ],
          [
           "Grand Prix de Mexico",
           "07/11/2021",
           "Mexico",
           "Max Verstappen",
           "Valtteri Bottas",
           "2",
           "1",
           18,
           25,
           293.5,
           312.5,
           2,
           1
          ],
          [
           "Grand Prix de São Paulo",
           "14/11/2021",
           "São Paulo",
           "Lewis Hamilton",
           "Valtteri Bottas",
           "1",
           "2",
           25,
           20,
           318.5,
           332.5,
           2,
           1
          ],
          [
           "Grand Prix du Qatar",
           "21/11/2021",
           "Losail",
           "Lewis Hamilton",
           "Lewis Hamilton",
           "1",
           "2",
           25,
           19,
           343.5,
           351.5,
           2,
           1
          ],
          [
           "Grand Prix d'Arabie saoudite",
           "05/12/2021",
           "Djeddah",
           "Lewis Hamilton",
           "Lewis Hamilton",
           "1",
           "2",
           26,
           18,
           369.5,
           369.5,
           1,
           1
          ],
          [
           "Grand Prix d'Abou Dabi",
           "12/12/2021",
           "Yas Marina",
           "Max Verstappen",
           "Max Verstappen",
           "2",
           "1",
           18,
           26,
           387.5,
           395.5,
           2,
           1
          ]
         ],
         "hovertemplate": "<b>%{customdata[0]}<br><b>Hamilton: </b>%{customdata[5]} - %{customdata[7]}pts<br><b>Championnat du monde<br><b>Hamilton: </b>%{customdata[11]}e - %{customdata[9]}pts<br><extra></extra>",
         "marker": {
          "color": "#00D2BE"
         },
         "mode": "markers",
         "name": "Hamilton",
         "type": "scatter",
         "x": [
          "Bahreïn",
          "Émilie-Romagne",
          "Portugal",
          "Espagne",
          "Monaco",
          "Azerbaïdjan",
          "France",
          "Styrie",
          "Autriche",
          "Grande-Bretagne",
          "Hongrie",
          "Belgique",
          "Pays-Bas",
          "Italie",
          "Russie",
          "Turquie",
          "États-Unis",
          "Mexico",
          "São Paulo",
          "Qatar",
          "Arabie saoudite",
          "Abou Dabi"
         ],
         "y": [
          25,
          44,
          69,
          94,
          101,
          101,
          119,
          138,
          150,
          177,
          195,
          202.5,
          221.5,
          221.5,
          246.5,
          256.5,
          275.5,
          293.5,
          318.5,
          343.5,
          369.5,
          387.5
         ]
        },
        {
         "customdata": [
          [
           "Grand Prix de Bahreïn",
           "28/03/2021",
           "Sakhir",
           "Lewis Hamilton",
           "Max Verstappen",
           "1",
           "2",
           25,
           18,
           25,
           18,
           1,
           2
          ],
          [
           "Grand Prix d'Émilie-Romagne",
           "18/04/2021",
           "Imola",
           "Max Verstappen",
           "Lewis Hamilton",
           "2",
           "1",
           19,
           25,
           44,
           43,
           1,
           2
          ],
          [
           "Grand Prix du Portugal",
           "02/05/2021",
           "Portimão",
           "Lewis Hamilton",
           "Valtteri Bottas",
           "1",
           "2",
           25,
           18,
           69,
           61,
           1,
           2
          ],
          [
           "Grand Prix d'Espagne",
           "09/05/2021",
           "Barcelone",
           "Lewis Hamilton",
           "Lewis Hamilton",
           "1",
           "2",
           25,
           19,
           94,
           80,
           1,
           2
          ],
          [
           "Grand Prix de Monaco",
           "23/05/2021",
           "Monaco",
           "Max Verstappen",
           "Charles Leclerc",
           "7",
           "1",
           7,
           25,
           101,
           105,
           2,
           1
          ],
          [
           "Grand Prix d'Azerbaïdjan",
           "06/06/2021",
           "Bakou",
           "Sergio Pérez",
           "Charles Leclerc",
           "15",
           "DNF",
           0,
           0,
           101,
           105,
           2,
           1
          ],
          [
           "Grand Prix de France",
           "20/06/2021",
           "Le Castellet",
           "Max Verstappen",
           "Max Verstappen",
           "2",
           "1",
           18,
           26,
           119,
           131,
           2,
           1
          ],
          [
           "Grand Prix de Styrie",
           "27/06/2021",
           "Spielberg",
           "Max Verstappen",
           "Max Verstappen",
           "2",
           "1",
           19,
           25,
           138,
           156,
           2,
           1
          ],
          [
           "Grand Prix d'Autriche",
           "04/07/2021",
           "Spielberg",
           "Max Verstappen",
           "Max Verstappen",
           "4",
           "1",
           12,
           26,
           150,
           182,
           2,
           1
          ],
          [
           "Grand Prix de Grande-Bretagne",
           "18/07/2021",
           "Silverstone",
           "Lewis Hamilton",
           "Max Verstappen",
           "1",
           "DNF",
           27,
           3,
           177,
           185,
           2,
           1
          ],
          [
           "Grand Prix de Hongrie",
           "01/08/2021",
           "Budapest",
           "Esteban Ocon",
           "Lewis Hamilton",
           "2",
           "9",
           18,
           2,
           195,
           187,
           1,
           2
          ],
          [
           "Grand Prix de Belgique",
           "29/08/2021",
           "Spa-Francorchamps",
           "Max Verstappen",
           "Max Verstappen",
           "3",
           "1",
           7,
           12,
           202.5,
           199.5,
           1,
           2
          ],
          [
           "Grand Prix des Pays-Bas",
           "05/09/2021",
           "Zandvoort",
           "Max Verstappen",
           "Max Verstappen",
           "2",
           "1",
           19,
           25,
           221.5,
           224.5,
           2,
           1
          ],
          [
           "Grand Prix d'Italie",
           "12/09/2021",
           "Monza",
           "Daniel Ricciardo",
           "Max Verstappen",
           "DNF",
           "DNF",
           0,
           2,
           221.5,
           226.5,
           2,
           1
          ],
          [
           "Grand Prix de Russie",
           "26/09/2021",
           "Sotchi",
           "Lewis Hamilton",
           "Lando Norris",
           "1",
           "2",
           25,
           18,
           246.5,
           244.5,
           1,
           2
          ],
          [
           "Grand Prix de Turquie",
           "10/10/2021",
           "Istanbul",
           "Valtteri Bottas",
           "Valtteri Bottas",
           "5",
           "2",
           10,
           18,
           256.5,
           262.5,
           2,
           1
          ],
          [
           "Grand Prix des États-Unis",
           "24/10/2021",
           "Austin",
           "Max Verstappen",
           "Max Verstappen",
           "2",
           "1",
           19,
           25,
           275.5,
           287.5,
           2,
           1
          ],
          [
           "Grand Prix de Mexico",
           "07/11/2021",
           "Mexico",
           "Max Verstappen",
           "Valtteri Bottas",
           "2",
           "1",
           18,
           25,
           293.5,
           312.5,
           2,
           1
          ],
          [
           "Grand Prix de São Paulo",
           "14/11/2021",
           "São Paulo",
           "Lewis Hamilton",
           "Valtteri Bottas",
           "1",
           "2",
           25,
           20,
           318.5,
           332.5,
           2,
           1
          ],
          [
           "Grand Prix du Qatar",
           "21/11/2021",
           "Losail",
           "Lewis Hamilton",
           "Lewis Hamilton",
           "1",
           "2",
           25,
           19,
           343.5,
           351.5,
           2,
           1
          ],
          [
           "Grand Prix d'Arabie saoudite",
           "05/12/2021",
           "Djeddah",
           "Lewis Hamilton",
           "Lewis Hamilton",
           "1",
           "2",
           26,
           18,
           369.5,
           369.5,
           1,
           1
          ],
          [
           "Grand Prix d'Abou Dabi",
           "12/12/2021",
           "Yas Marina",
           "Max Verstappen",
           "Max Verstappen",
           "2",
           "1",
           18,
           26,
           387.5,
           395.5,
           2,
           1
          ]
         ],
         "hovertemplate": "<b>%{customdata[0]} - %{customdata[1]}<br><b>Verstappen: </b>%{customdata[6]} - %{customdata[8]}pts<br><b>Championnat du monde<br><b>Verstappen: </b>%{customdata[12]}e - %{customdata[10]}pts<br><extra></extra>",
         "marker": {
          "color": "#0600EF"
         },
         "mode": "markers",
         "name": "Verstappen",
         "type": "scatter",
         "x": [
          "Bahreïn",
          "Émilie-Romagne",
          "Portugal",
          "Espagne",
          "Monaco",
          "Azerbaïdjan",
          "France",
          "Styrie",
          "Autriche",
          "Grande-Bretagne",
          "Hongrie",
          "Belgique",
          "Pays-Bas",
          "Italie",
          "Russie",
          "Turquie",
          "États-Unis",
          "Mexico",
          "São Paulo",
          "Qatar",
          "Arabie saoudite",
          "Abou Dabi"
         ],
         "y": [
          18,
          43,
          61,
          80,
          105,
          105,
          131,
          156,
          182,
          185,
          187,
          199.5,
          224.5,
          226.5,
          244.5,
          262.5,
          287.5,
          312.5,
          332.5,
          351.5,
          369.5,
          395.5
         ]
        }
       ],
       "layout": {
        "legend": {
         "title": {
          "text": "Pilotes"
         }
        },
        "template": {
         "data": {
          "bar": [
           {
            "error_x": {
             "color": "#2a3f5f"
            },
            "error_y": {
             "color": "#2a3f5f"
            },
            "marker": {
             "line": {
              "color": "#E5ECF6",
              "width": 0.5
             },
             "pattern": {
              "fillmode": "overlay",
              "size": 10,
              "solidity": 0.2
             }
            },
            "type": "bar"
           }
          ],
          "barpolar": [
           {
            "marker": {
             "line": {
              "color": "#E5ECF6",
              "width": 0.5
             },
             "pattern": {
              "fillmode": "overlay",
              "size": 10,
              "solidity": 0.2
             }
            },
            "type": "barpolar"
           }
          ],
          "carpet": [
           {
            "aaxis": {
             "endlinecolor": "#2a3f5f",
             "gridcolor": "white",
             "linecolor": "white",
             "minorgridcolor": "white",
             "startlinecolor": "#2a3f5f"
            },
            "baxis": {
             "endlinecolor": "#2a3f5f",
             "gridcolor": "white",
             "linecolor": "white",
             "minorgridcolor": "white",
             "startlinecolor": "#2a3f5f"
            },
            "type": "carpet"
           }
          ],
          "choropleth": [
           {
            "colorbar": {
             "outlinewidth": 0,
             "ticks": ""
            },
            "type": "choropleth"
           }
          ],
          "contour": [
           {
            "colorbar": {
             "outlinewidth": 0,
             "ticks": ""
            },
            "colorscale": [
             [
              0,
              "#0d0887"
             ],
             [
              0.1111111111111111,
              "#46039f"
             ],
             [
              0.2222222222222222,
              "#7201a8"
             ],
             [
              0.3333333333333333,
              "#9c179e"
             ],
             [
              0.4444444444444444,
              "#bd3786"
             ],
             [
              0.5555555555555556,
              "#d8576b"
             ],
             [
              0.6666666666666666,
              "#ed7953"
             ],
             [
              0.7777777777777778,
              "#fb9f3a"
             ],
             [
              0.8888888888888888,
              "#fdca26"
             ],
             [
              1,
              "#f0f921"
             ]
            ],
            "type": "contour"
           }
          ],
          "contourcarpet": [
           {
            "colorbar": {
             "outlinewidth": 0,
             "ticks": ""
            },
            "type": "contourcarpet"
           }
          ],
          "heatmap": [
           {
            "colorbar": {
             "outlinewidth": 0,
             "ticks": ""
            },
            "colorscale": [
             [
              0,
              "#0d0887"
             ],
             [
              0.1111111111111111,
              "#46039f"
             ],
             [
              0.2222222222222222,
              "#7201a8"
             ],
             [
              0.3333333333333333,
              "#9c179e"
             ],
             [
              0.4444444444444444,
              "#bd3786"
             ],
             [
              0.5555555555555556,
              "#d8576b"
             ],
             [
              0.6666666666666666,
              "#ed7953"
             ],
             [
              0.7777777777777778,
              "#fb9f3a"
             ],
             [
              0.8888888888888888,
              "#fdca26"
             ],
             [
              1,
              "#f0f921"
             ]
            ],
            "type": "heatmap"
           }
          ],
          "heatmapgl": [
           {
            "colorbar": {
             "outlinewidth": 0,
             "ticks": ""
            },
            "colorscale": [
             [
              0,
              "#0d0887"
             ],
             [
              0.1111111111111111,
              "#46039f"
             ],
             [
              0.2222222222222222,
              "#7201a8"
             ],
             [
              0.3333333333333333,
              "#9c179e"
             ],
             [
              0.4444444444444444,
              "#bd3786"
             ],
             [
              0.5555555555555556,
              "#d8576b"
             ],
             [
              0.6666666666666666,
              "#ed7953"
             ],
             [
              0.7777777777777778,
              "#fb9f3a"
             ],
             [
              0.8888888888888888,
              "#fdca26"
             ],
             [
              1,
              "#f0f921"
             ]
            ],
            "type": "heatmapgl"
           }
          ],
          "histogram": [
           {
            "marker": {
             "pattern": {
              "fillmode": "overlay",
              "size": 10,
              "solidity": 0.2
             }
            },
            "type": "histogram"
           }
          ],
          "histogram2d": [
           {
            "colorbar": {
             "outlinewidth": 0,
             "ticks": ""
            },
            "colorscale": [
             [
              0,
              "#0d0887"
             ],
             [
              0.1111111111111111,
              "#46039f"
             ],
             [
              0.2222222222222222,
              "#7201a8"
             ],
             [
              0.3333333333333333,
              "#9c179e"
             ],
             [
              0.4444444444444444,
              "#bd3786"
             ],
             [
              0.5555555555555556,
              "#d8576b"
             ],
             [
              0.6666666666666666,
              "#ed7953"
             ],
             [
              0.7777777777777778,
              "#fb9f3a"
             ],
             [
              0.8888888888888888,
              "#fdca26"
             ],
             [
              1,
              "#f0f921"
             ]
            ],
            "type": "histogram2d"
           }
          ],
          "histogram2dcontour": [
           {
            "colorbar": {
             "outlinewidth": 0,
             "ticks": ""
            },
            "colorscale": [
             [
              0,
              "#0d0887"
             ],
             [
              0.1111111111111111,
              "#46039f"
             ],
             [
              0.2222222222222222,
              "#7201a8"
             ],
             [
              0.3333333333333333,
              "#9c179e"
             ],
             [
              0.4444444444444444,
              "#bd3786"
             ],
             [
              0.5555555555555556,
              "#d8576b"
             ],
             [
              0.6666666666666666,
              "#ed7953"
             ],
             [
              0.7777777777777778,
              "#fb9f3a"
             ],
             [
              0.8888888888888888,
              "#fdca26"
             ],
             [
              1,
              "#f0f921"
             ]
            ],
            "type": "histogram2dcontour"
           }
          ],
          "mesh3d": [
           {
            "colorbar": {
             "outlinewidth": 0,
             "ticks": ""
            },
            "type": "mesh3d"
           }
          ],
          "parcoords": [
           {
            "line": {
             "colorbar": {
              "outlinewidth": 0,
              "ticks": ""
             }
            },
            "type": "parcoords"
           }
          ],
          "pie": [
           {
            "automargin": true,
            "type": "pie"
           }
          ],
          "scatter": [
           {
            "fillpattern": {
             "fillmode": "overlay",
             "size": 10,
             "solidity": 0.2
            },
            "type": "scatter"
           }
          ],
          "scatter3d": [
           {
            "line": {
             "colorbar": {
              "outlinewidth": 0,
              "ticks": ""
             }
            },
            "marker": {
             "colorbar": {
              "outlinewidth": 0,
              "ticks": ""
             }
            },
            "type": "scatter3d"
           }
          ],
          "scattercarpet": [
           {
            "marker": {
             "colorbar": {
              "outlinewidth": 0,
              "ticks": ""
             }
            },
            "type": "scattercarpet"
           }
          ],
          "scattergeo": [
           {
            "marker": {
             "colorbar": {
              "outlinewidth": 0,
              "ticks": ""
             }
            },
            "type": "scattergeo"
           }
          ],
          "scattergl": [
           {
            "marker": {
             "colorbar": {
              "outlinewidth": 0,
              "ticks": ""
             }
            },
            "type": "scattergl"
           }
          ],
          "scattermapbox": [
           {
            "marker": {
             "colorbar": {
              "outlinewidth": 0,
              "ticks": ""
             }
            },
            "type": "scattermapbox"
           }
          ],
          "scatterpolar": [
           {
            "marker": {
             "colorbar": {
              "outlinewidth": 0,
              "ticks": ""
             }
            },
            "type": "scatterpolar"
           }
          ],
          "scatterpolargl": [
           {
            "marker": {
             "colorbar": {
              "outlinewidth": 0,
              "ticks": ""
             }
            },
            "type": "scatterpolargl"
           }
          ],
          "scatterternary": [
           {
            "marker": {
             "colorbar": {
              "outlinewidth": 0,
              "ticks": ""
             }
            },
            "type": "scatterternary"
           }
          ],
          "surface": [
           {
            "colorbar": {
             "outlinewidth": 0,
             "ticks": ""
            },
            "colorscale": [
             [
              0,
              "#0d0887"
             ],
             [
              0.1111111111111111,
              "#46039f"
             ],
             [
              0.2222222222222222,
              "#7201a8"
             ],
             [
              0.3333333333333333,
              "#9c179e"
             ],
             [
              0.4444444444444444,
              "#bd3786"
             ],
             [
              0.5555555555555556,
              "#d8576b"
             ],
             [
              0.6666666666666666,
              "#ed7953"
             ],
             [
              0.7777777777777778,
              "#fb9f3a"
             ],
             [
              0.8888888888888888,
              "#fdca26"
             ],
             [
              1,
              "#f0f921"
             ]
            ],
            "type": "surface"
           }
          ],
          "table": [
           {
            "cells": {
             "fill": {
              "color": "#EBF0F8"
             },
             "line": {
              "color": "white"
             }
            },
            "header": {
             "fill": {
              "color": "#C8D4E3"
             },
             "line": {
              "color": "white"
             }
            },
            "type": "table"
           }
          ]
         },
         "layout": {
          "annotationdefaults": {
           "arrowcolor": "#2a3f5f",
           "arrowhead": 0,
           "arrowwidth": 1
          },
          "autotypenumbers": "strict",
          "coloraxis": {
           "colorbar": {
            "outlinewidth": 0,
            "ticks": ""
           }
          },
          "colorscale": {
           "diverging": [
            [
             0,
             "#8e0152"
            ],
            [
             0.1,
             "#c51b7d"
            ],
            [
             0.2,
             "#de77ae"
            ],
            [
             0.3,
             "#f1b6da"
            ],
            [
             0.4,
             "#fde0ef"
            ],
            [
             0.5,
             "#f7f7f7"
            ],
            [
             0.6,
             "#e6f5d0"
            ],
            [
             0.7,
             "#b8e186"
            ],
            [
             0.8,
             "#7fbc41"
            ],
            [
             0.9,
             "#4d9221"
            ],
            [
             1,
             "#276419"
            ]
           ],
           "sequential": [
            [
             0,
             "#0d0887"
            ],
            [
             0.1111111111111111,
             "#46039f"
            ],
            [
             0.2222222222222222,
             "#7201a8"
            ],
            [
             0.3333333333333333,
             "#9c179e"
            ],
            [
             0.4444444444444444,
             "#bd3786"
            ],
            [
             0.5555555555555556,
             "#d8576b"
            ],
            [
             0.6666666666666666,
             "#ed7953"
            ],
            [
             0.7777777777777778,
             "#fb9f3a"
            ],
            [
             0.8888888888888888,
             "#fdca26"
            ],
            [
             1,
             "#f0f921"
            ]
           ],
           "sequentialminus": [
            [
             0,
             "#0d0887"
            ],
            [
             0.1111111111111111,
             "#46039f"
            ],
            [
             0.2222222222222222,
             "#7201a8"
            ],
            [
             0.3333333333333333,
             "#9c179e"
            ],
            [
             0.4444444444444444,
             "#bd3786"
            ],
            [
             0.5555555555555556,
             "#d8576b"
            ],
            [
             0.6666666666666666,
             "#ed7953"
            ],
            [
             0.7777777777777778,
             "#fb9f3a"
            ],
            [
             0.8888888888888888,
             "#fdca26"
            ],
            [
             1,
             "#f0f921"
            ]
           ]
          },
          "colorway": [
           "#636efa",
           "#EF553B",
           "#00cc96",
           "#ab63fa",
           "#FFA15A",
           "#19d3f3",
           "#FF6692",
           "#B6E880",
           "#FF97FF",
           "#FECB52"
          ],
          "font": {
           "color": "#2a3f5f"
          },
          "geo": {
           "bgcolor": "white",
           "lakecolor": "white",
           "landcolor": "#E5ECF6",
           "showlakes": true,
           "showland": true,
           "subunitcolor": "white"
          },
          "hoverlabel": {
           "align": "left"
          },
          "hovermode": "closest",
          "mapbox": {
           "style": "light"
          },
          "paper_bgcolor": "white",
          "plot_bgcolor": "#E5ECF6",
          "polar": {
           "angularaxis": {
            "gridcolor": "white",
            "linecolor": "white",
            "ticks": ""
           },
           "bgcolor": "#E5ECF6",
           "radialaxis": {
            "gridcolor": "white",
            "linecolor": "white",
            "ticks": ""
           }
          },
          "scene": {
           "xaxis": {
            "backgroundcolor": "#E5ECF6",
            "gridcolor": "white",
            "gridwidth": 2,
            "linecolor": "white",
            "showbackground": true,
            "ticks": "",
            "zerolinecolor": "white"
           },
           "yaxis": {
            "backgroundcolor": "#E5ECF6",
            "gridcolor": "white",
            "gridwidth": 2,
            "linecolor": "white",
            "showbackground": true,
            "ticks": "",
            "zerolinecolor": "white"
           },
           "zaxis": {
            "backgroundcolor": "#E5ECF6",
            "gridcolor": "white",
            "gridwidth": 2,
            "linecolor": "white",
            "showbackground": true,
            "ticks": "",
            "zerolinecolor": "white"
           }
          },
          "shapedefaults": {
           "line": {
            "color": "#2a3f5f"
           }
          },
          "ternary": {
           "aaxis": {
            "gridcolor": "white",
            "linecolor": "white",
            "ticks": ""
           },
           "baxis": {
            "gridcolor": "white",
            "linecolor": "white",
            "ticks": ""
           },
           "bgcolor": "#E5ECF6",
           "caxis": {
            "gridcolor": "white",
            "linecolor": "white",
            "ticks": ""
           }
          },
          "title": {
           "x": 0.05
          },
          "xaxis": {
           "automargin": true,
           "gridcolor": "white",
           "linecolor": "white",
           "ticks": "",
           "title": {
            "standoff": 15
           },
           "zerolinecolor": "white",
           "zerolinewidth": 2
          },
          "yaxis": {
           "automargin": true,
           "gridcolor": "white",
           "linecolor": "white",
           "ticks": "",
           "title": {
            "standoff": 15
           },
           "zerolinecolor": "white",
           "zerolinewidth": 2
          }
         }
        },
        "title": {
         "text": "Évolution des points au classement du championnat du monde de F1<br><sup>Lewis Hamilton (Mercedes) et Max Verstappen (Red Bull)</sup>"
        },
        "xaxis": {
         "title": {
          "text": "Grand Prix"
         }
        },
        "yaxis": {
         "title": {
          "text": "Points"
         }
        }
       }
      }
     },
     "metadata": {},
     "output_type": "display_data"
    }
   ],
   "source": [
    "fig = go.Figure()\n",
    "\n",
    "fig.add_trace(go.Scatter(\n",
    "    x=df['GP'],\n",
    "    y=df['Cumul Hamilton'],\n",
    "    name='Hamilton',\n",
    "    mode='markers',\n",
    "    marker=dict(color='#00D2BE'),\n",
    "    customdata = np.stack((df['Grand Prix'],df['Date'],df['Circuit'],df['Vainqueur'],df['Pole Position'],\n",
    "                           df['Position Hamilton'],df['Position Verstappen'],df['Points Hamilton'],df['Points Verstappen'],\n",
    "                           df['Cumul Hamilton'],df['Cumul Verstappen'],df['Classement Hamilton'],df['Classement Verstappen'])\n",
    "                          ,axis=-1),\n",
    "    hovertemplate=get_classement_hover_template('Hamilton')\n",
    "))\n",
    "\n",
    "\n",
    "fig.add_trace(go.Scatter(\n",
    "    x=df['GP'],\n",
    "    y=df['Cumul Verstappen'],\n",
    "    name='Verstappen',\n",
    "    mode='markers',\n",
    "    marker=dict(color='#0600EF'),\n",
    "    customdata = np.stack((df['Grand Prix'],df['Date'],df['Circuit'],df['Vainqueur'],df['Pole Position'],\n",
    "                           df['Position Hamilton'],df['Position Verstappen'],df['Points Hamilton'],df['Points Verstappen'],\n",
    "                           df['Cumul Hamilton'],df['Cumul Verstappen'],df['Classement Hamilton'],df['Classement Verstappen'])\n",
    "                          ,axis=-1),\n",
    "    hovertemplate=get_classement_hover_template('Verstappen')\n",
    "))\n",
    "\n",
    "fig.update_layout(\n",
    "    title='Évolution des points au classement du championnat du monde de F1<br><sup>Lewis Hamilton (Mercedes) et Max Verstappen (Red Bull)</sup>',\n",
    "    xaxis_title='Grand Prix',\n",
    "    yaxis_title='Points',\n",
    "    legend_title='Pilotes'\n",
    ")\n"
   ]
  }
 ],
 "metadata": {
  "kernelspec": {
   "display_name": "venv",
   "language": "python",
   "name": "python3"
  },
  "language_info": {
   "codemirror_mode": {
    "name": "ipython",
    "version": 3
   },
   "file_extension": ".py",
   "mimetype": "text/x-python",
   "name": "python",
   "nbconvert_exporter": "python",
   "pygments_lexer": "ipython3",
   "version": "3.8.0"
  }
 },
 "nbformat": 4,
 "nbformat_minor": 2
}
